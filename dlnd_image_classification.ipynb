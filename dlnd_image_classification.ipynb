{
 "cells": [
  {
   "cell_type": "markdown",
   "metadata": {
    "collapsed": true,
    "deletable": true,
    "editable": true
   },
   "source": [
    "# Image Classification\n",
    "In this project, you'll classify images from the [CIFAR-10 dataset](https://www.cs.toronto.edu/~kriz/cifar.html).  The dataset consists of airplanes, dogs, cats, and other objects. You'll preprocess the images, then train a convolutional neural network on all the samples. The images need to be normalized and the labels need to be one-hot encoded.  You'll get to apply what you learned and build a convolutional, max pooling, dropout, and fully connected layers.  At the end, you'll get to see your neural network's predictions on the sample images.\n",
    "## Get the Data\n",
    "Run the following cell to download the [CIFAR-10 dataset for python](https://www.cs.toronto.edu/~kriz/cifar-10-python.tar.gz)."
   ]
  },
  {
   "cell_type": "code",
   "execution_count": 1,
   "metadata": {
    "collapsed": false,
    "deletable": true,
    "editable": true
   },
   "outputs": [
    {
     "name": "stdout",
     "output_type": "stream",
     "text": [
      "All files found!\n"
     ]
    }
   ],
   "source": [
    "\"\"\"\n",
    "DON'T MODIFY ANYTHING IN THIS CELL THAT IS BELOW THIS LINE\n",
    "\"\"\"\n",
    "from urllib.request import urlretrieve\n",
    "from os.path import isfile, isdir\n",
    "from tqdm import tqdm\n",
    "import problem_unittests as tests\n",
    "import tarfile\n",
    "\n",
    "cifar10_dataset_folder_path = 'cifar-10-batches-py'\n",
    "\n",
    "class DLProgress(tqdm):\n",
    "    last_block = 0\n",
    "\n",
    "    def hook(self, block_num=1, block_size=1, total_size=None):\n",
    "        self.total = total_size\n",
    "        self.update((block_num - self.last_block) * block_size)\n",
    "        self.last_block = block_num\n",
    "\n",
    "if not isfile('cifar-10-python.tar.gz'):\n",
    "    with DLProgress(unit='B', unit_scale=True, miniters=1, desc='CIFAR-10 Dataset') as pbar:\n",
    "        urlretrieve(\n",
    "            'https://www.cs.toronto.edu/~kriz/cifar-10-python.tar.gz',\n",
    "            'cifar-10-python.tar.gz',\n",
    "            pbar.hook)\n",
    "\n",
    "if not isdir(cifar10_dataset_folder_path):\n",
    "    with tarfile.open('cifar-10-python.tar.gz') as tar:\n",
    "        tar.extractall()\n",
    "        tar.close()\n",
    "\n",
    "\n",
    "tests.test_folder_path(cifar10_dataset_folder_path)"
   ]
  },
  {
   "cell_type": "markdown",
   "metadata": {
    "deletable": true,
    "editable": true
   },
   "source": [
    "## Explore the Data\n",
    "The dataset is broken into batches to prevent your machine from running out of memory.  The CIFAR-10 dataset consists of 5 batches, named `data_batch_1`, `data_batch_2`, etc.. Each batch contains the labels and images that are one of the following:\n",
    "* airplane\n",
    "* automobile\n",
    "* bird\n",
    "* cat\n",
    "* deer\n",
    "* dog\n",
    "* frog\n",
    "* horse\n",
    "* ship\n",
    "* truck\n",
    "\n",
    "Understanding a dataset is part of making predictions on the data.  Play around with the code cell below by changing the `batch_id` and `sample_id`. The `batch_id` is the id for a batch (1-5). The `sample_id` is the id for a image and label pair in the batch.\n",
    "\n",
    "Ask yourself \"What are all possible labels?\", \"What is the range of values for the image data?\", \"Are the labels in order or random?\".  Answers to questions like these will help you preprocess the data and end up with better predictions."
   ]
  },
  {
   "cell_type": "code",
   "execution_count": 2,
   "metadata": {
    "collapsed": false,
    "deletable": true,
    "editable": true
   },
   "outputs": [
    {
     "name": "stdout",
     "output_type": "stream",
     "text": [
      "\n",
      "Stats of batch 5:\n",
      "Samples: 10000\n",
      "Label Counts: {0: 1014, 1: 1014, 2: 952, 3: 1016, 4: 997, 5: 1025, 6: 980, 7: 977, 8: 1003, 9: 1022}\n",
      "First 20 Labels: [1, 8, 5, 1, 5, 7, 4, 3, 8, 2, 7, 2, 0, 1, 5, 9, 6, 2, 0, 8]\n",
      "\n",
      "Example of Image 7:\n",
      "Image - Min Value: 20 Max Value: 255\n",
      "Image - Shape: (32, 32, 3)\n",
      "Label - Label Id: 3 Name: cat\n"
     ]
    },
    {
     "data": {
      "image/png": "[encoded data removed]",
      "text/plain": [
       "<matplotlib.figure.Figure at 0x7f8897e141d0>"
      ]
     },
     "metadata": {
      "image/png": {
       "height": 250,
       "width": 253
      }
     },
     "output_type": "display_data"
    }
   ],
   "source": [
    "%matplotlib inline\n",
    "%config InlineBackend.figure_format = 'retina'\n",
    "\n",
    "import helper\n",
    "import numpy as np\n",
    "\n",
    "# Explore the dataset\n",
    "batch_id = 5\n",
    "sample_id = 7\n",
    "helper.display_stats(cifar10_dataset_folder_path, batch_id, sample_id)"
   ]
  },
  {
   "cell_type": "markdown",
   "metadata": {
    "deletable": true,
    "editable": true
   },
   "source": [
    "## Implement Preprocess Functions\n",
    "### Normalize\n",
    "In the cell below, implement the `normalize` function to take in image data, `x`, and return it as a normalized Numpy array. The values should be in the range of 0 to 1, inclusive.  The return object should be the same shape as `x`."
   ]
  },
  {
   "cell_type": "code",
   "execution_count": 3,
   "metadata": {
    "collapsed": false,
    "deletable": true,
    "editable": true
   },
   "outputs": [
    {
     "name": "stdout",
     "output_type": "stream",
     "text": [
      "Tests Passed\n"
     ]
    }
   ],
   "source": [
    "def normalize(x):\n",
    "    \"\"\"\n",
    "    Normalize a list of sample image data in the range of 0 to 1\n",
    "    : x: List of image data.  The image shape is (32, 32, 3)\n",
    "    : return: Numpy array of normalize data\n",
    "    \"\"\"\n",
    "    # TODO: Implement Function\n",
    "    norm = np.array(x/255)\n",
    "    return  norm\n",
    "\n",
    "\n",
    "\"\"\"\n",
    "DON'T MODIFY ANYTHING IN THIS CELL THAT IS BELOW THIS LINE\n",
    "\"\"\"\n",
    "tests.test_normalize(normalize)"
   ]
  },
  {
   "cell_type": "markdown",
   "metadata": {
    "deletable": true,
    "editable": true
   },
   "source": [
    "### One-hot encode\n",
    "Just like the previous code cell, you'll be implementing a function for preprocessing.  This time, you'll implement the `one_hot_encode` function. The input, `x`, are a list of labels.  Implement the function to return the list of labels as One-Hot encoded Numpy array.  The possible values for labels are 0 to 9. The one-hot encoding function should return the same encoding for each value between each call to `one_hot_encode`.  Make sure to save the map of encodings outside the function.\n",
    "\n",
    "Hint: Don't reinvent the wheel."
   ]
  },
  {
   "cell_type": "code",
   "execution_count": 4,
   "metadata": {
    "collapsed": false,
    "deletable": true,
    "editable": true
   },
   "outputs": [
    {
     "name": "stdout",
     "output_type": "stream",
     "text": [
      "Tests Passed\n"
     ]
    }
   ],
   "source": [
    "def one_hot_encode(x):\n",
    "    \"\"\"\n",
    "    One hot encode a list of sample labels. Return a one-hot encoded vector for each label.\n",
    "    : x: List of sample Labels\n",
    "    : return: Numpy array of one-hot encoded labels\n",
    "    \"\"\"\n",
    "    # TODO: Implement Function\n",
    "    from sklearn import preprocessing\n",
    "    lb = preprocessing.LabelBinarizer()\n",
    "    lb.fit(x)\n",
    "    lb.classes_ = [0,1,2,3,4,5,6,7,8,9] #to fix classes, ie. no. of classes does not change with different input sizes\n",
    "    return lb.transform(x)\n",
    "\n",
    "\n",
    "\"\"\"\n",
    "DON'T MODIFY ANYTHING IN THIS CELL THAT IS BELOW THIS LINE\n",
    "\"\"\"\n",
    "tests.test_one_hot_encode(one_hot_encode)"
   ]
  },
  {
   "cell_type": "markdown",
   "metadata": {
    "deletable": true,
    "editable": true
   },
   "source": [
    "### Randomize Data\n",
    "As you saw from exploring the data above, the order of the samples are randomized.  It doesn't hurt to randomize it again, but you don't need to for this dataset."
   ]
  },
  {
   "cell_type": "markdown",
   "metadata": {
    "deletable": true,
    "editable": true
   },
   "source": [
    "## Preprocess all the data and save it\n",
    "Running the code cell below will preprocess all the CIFAR-10 data and save it to file. The code below also uses 10% of the training data for validation."
   ]
  },
  {
   "cell_type": "code",
   "execution_count": 5,
   "metadata": {
    "collapsed": false,
    "deletable": true,
    "editable": true
   },
   "outputs": [],
   "source": [
    "\"\"\"\n",
    "DON'T MODIFY ANYTHING IN THIS CELL\n",
    "\"\"\"\n",
    "# Preprocess Training, Validation, and Testing Data\n",
    "helper.preprocess_and_save_data(cifar10_dataset_folder_path, normalize, one_hot_encode)"
   ]
  },
  {
   "cell_type": "markdown",
   "metadata": {
    "deletable": true,
    "editable": true
   },
   "source": [
    "# Check Point\n",
    "This is your first checkpoint.  If you ever decide to come back to this notebook or have to restart the notebook, you can start from here.  The preprocessed data has been saved to disk."
   ]
  },
  {
   "cell_type": "code",
   "execution_count": 1,
   "metadata": {
    "collapsed": true,
    "deletable": true,
    "editable": true
   },
   "outputs": [],
   "source": [
    "\"\"\"\n",
    "DON'T MODIFY ANYTHING IN THIS CELL\n",
    "\"\"\"\n",
    "import pickle\n",
    "import problem_unittests as tests\n",
    "import helper\n",
    "\n",
    "# Load the Preprocessed Validation data\n",
    "valid_features, valid_labels = pickle.load(open('preprocess_validation.p', mode='rb'))"
   ]
  },
  {
   "cell_type": "markdown",
   "metadata": {
    "deletable": true,
    "editable": true
   },
   "source": [
    "## Build the network\n",
    "For the neural network, you'll build each layer into a function.  Most of the code you've seen has been outside of functions. To test your code more thoroughly, we require that you put each layer in a function.  This allows us to give you better feedback and test for simple mistakes using our unittests before you submit your project.\n",
    "\n",
    ">**Note:** If you're finding it hard to dedicate enough time for this course each week, we've provided a small shortcut to this part of the project. In the next couple of problems, you'll have the option to use classes from the [TensorFlow Layers](https://www.tensorflow.org/api_docs/python/tf/layers) or [TensorFlow Layers (contrib)](https://www.tensorflow.org/api_guides/python/contrib.layers) packages to build each layer, except the layers you build in the \"Convolutional and Max Pooling Layer\" section.  TF Layers is similar to Keras's and TFLearn's abstraction to layers, so it's easy to pickup.\n",
    "\n",
    ">However, if you would like to get the most out of this course, try to solve all the problems _without_ using anything from the TF Layers packages. You **can** still use classes from other packages that happen to have the same name as ones you find in TF Layers! For example, instead of using the TF Layers version of the `conv2d` class, [tf.layers.conv2d](https://www.tensorflow.org/api_docs/python/tf/layers/conv2d), you would want to use the TF Neural Network version of `conv2d`, [tf.nn.conv2d](https://www.tensorflow.org/api_docs/python/tf/nn/conv2d). \n",
    "\n",
    "Let's begin!\n",
    "\n",
    "### Input\n",
    "The neural network needs to read the image data, one-hot encoded labels, and dropout keep probability. Implement the following functions\n",
    "* Implement `neural_net_image_input`\n",
    " * Return a [TF Placeholder](https://www.tensorflow.org/api_docs/python/tf/placeholder)\n",
    " * Set the shape using `image_shape` with batch size set to `None`.\n",
    " * Name the TensorFlow placeholder \"x\" using the TensorFlow `name` parameter in the [TF Placeholder](https://www.tensorflow.org/api_docs/python/tf/placeholder).\n",
    "* Implement `neural_net_label_input`\n",
    " * Return a [TF Placeholder](https://www.tensorflow.org/api_docs/python/tf/placeholder)\n",
    " * Set the shape using `n_classes` with batch size set to `None`.\n",
    " * Name the TensorFlow placeholder \"y\" using the TensorFlow `name` parameter in the [TF Placeholder](https://www.tensorflow.org/api_docs/python/tf/placeholder).\n",
    "* Implement `neural_net_keep_prob_input`\n",
    " * Return a [TF Placeholder](https://www.tensorflow.org/api_docs/python/tf/placeholder) for dropout keep probability.\n",
    " * Name the TensorFlow placeholder \"keep_prob\" using the TensorFlow `name` parameter in the [TF Placeholder](https://www.tensorflow.org/api_docs/python/tf/placeholder).\n",
    "\n",
    "These names will be used at the end of the project to load your saved model.\n",
    "\n",
    "Note: `None` for shapes in TensorFlow allow for a dynamic size."
   ]
  },
  {
   "cell_type": "code",
   "execution_count": 2,
   "metadata": {
    "collapsed": false,
    "deletable": true,
    "editable": true
   },
   "outputs": [
    {
     "name": "stdout",
     "output_type": "stream",
     "text": [
      "Image Input Tests Passed.\n",
      "Label Input Tests Passed.\n",
      "Keep Prob Tests Passed.\n"
     ]
    }
   ],
   "source": [
    "import tensorflow as tf\n",
    "\n",
    "def neural_net_image_input(image_shape):\n",
    "    \"\"\"\n",
    "    Return a Tensor for a batch of image input\n",
    "    : image_shape: Shape of the images\n",
    "    : return: Tensor for image input.\n",
    "    \"\"\"\n",
    "    # TODO: Implement Function\n",
    "    return tf.placeholder(tf.float32,shape=[None]+list(image_shape), name='x')\n",
    "\n",
    "\n",
    "def neural_net_label_input(n_classes):\n",
    "    \"\"\"\n",
    "    Return a Tensor for a batch of label input\n",
    "    : n_classes: Number of classes\n",
    "    : return: Tensor for label input.\n",
    "    \"\"\"\n",
    "    # TODO: Implement Function\n",
    "    return tf.placeholder(tf.float32, shape=[None,n_classes], name='y')\n",
    "\n",
    "\n",
    "def neural_net_keep_prob_input():\n",
    "    \"\"\"\n",
    "    Return a Tensor for keep probability\n",
    "    : return: Tensor for keep probability.\n",
    "    \"\"\"\n",
    "    # TODO: Implement Function\n",
    "    return tf.placeholder(tf.float32, name='keep_prob')\n",
    "\n",
    "\n",
    "\"\"\"\n",
    "DON'T MODIFY ANYTHING IN THIS CELL THAT IS BELOW THIS LINE\n",
    "\"\"\"\n",
    "tf.reset_default_graph()\n",
    "tests.test_nn_image_inputs(neural_net_image_input)\n",
    "tests.test_nn_label_inputs(neural_net_label_input)\n",
    "tests.test_nn_keep_prob_inputs(neural_net_keep_prob_input)"
   ]
  },
  {
   "cell_type": "markdown",
   "metadata": {
    "deletable": true,
    "editable": true
   },
   "source": [
    "### Convolution and Max Pooling Layer\n",
    "Convolution layers have a lot of success with images. For this code cell, you should implement the function `conv2d_maxpool` to apply convolution then max pooling:\n",
    "* Create the weight and bias using `conv_ksize`, `conv_num_outputs` and the shape of `x_tensor`.\n",
    "* Apply a convolution to `x_tensor` using weight and `conv_strides`.\n",
    " * We recommend you use same padding, but you're welcome to use any padding.\n",
    "* Add bias\n",
    "* Add a nonlinear activation to the convolution.\n",
    "* Apply Max Pooling using `pool_ksize` and `pool_strides`.\n",
    " * We recommend you use same padding, but you're welcome to use any padding.\n",
    "\n",
    "**Note:** You **can't** use [TensorFlow Layers](https://www.tensorflow.org/api_docs/python/tf/layers) or [TensorFlow Layers (contrib)](https://www.tensorflow.org/api_guides/python/contrib.layers) for **this** layer, but you can still use TensorFlow's [Neural Network](https://www.tensorflow.org/api_docs/python/tf/nn) package. You may still use the shortcut option for all the **other** layers."
   ]
  },
  {
   "cell_type": "code",
   "execution_count": 41,
   "metadata": {
    "collapsed": false,
    "deletable": true,
    "editable": true
   },
   "outputs": [
    {
     "name": "stdout",
     "output_type": "stream",
     "text": [
      "Tests Passed\n"
     ]
    }
   ],
   "source": [
    "def conv2d_maxpool(x_tensor, conv_num_outputs, conv_ksize, conv_strides, pool_ksize, pool_strides):\n",
    "    \"\"\"\n",
    "    Apply convolution then max pooling to x_tensor\n",
    "    :param x_tensor: TensorFlow Tensor\n",
    "    :param conv_num_outputs: Number of outputs for the convolutional layer\n",
    "    :param conv_ksize: kernal size 2-D Tuple for the convolutional layer\n",
    "    :param conv_strides: Stride 2-D Tuple for convolution\n",
    "    :param pool_ksize: kernal size 2-D Tuple for pool\n",
    "    :param pool_strides: Stride 2-D Tuple for pool\n",
    "    : return: A tensor that represents convolution and max pooling of x_tensor\n",
    "    \"\"\"\n",
    "    # TODO: Implement Function\n",
    "    input_height = x_tensor.get_shape().as_list()[1]\n",
    "    input_width = x_tensor.get_shape().as_list()[2]\n",
    "    input_depth = x_tensor.get_shape().as_list()[3]\n",
    "    \n",
    "    conv_x_stride = conv_strides[0]\n",
    "    conv_y_stride = conv_strides[1]\n",
    "    conv_patch_width = conv_ksize[0]\n",
    "    conv_patch_height = conv_ksize[1]\n",
    "    conv_depth = conv_num_outputs\n",
    "    \n",
    "    pool_patch_width = pool_ksize[0]\n",
    "    pool_patch_height = pool_ksize[1]\n",
    "    pool_x_stride = pool_strides[0]\n",
    "    pool_y_stride = pool_strides[1]\n",
    "    \n",
    "    weights = tf.Variable(tf.random_normal([conv_patch_width, conv_patch_height, input_depth, conv_depth],stddev=0.1))\n",
    "    biases = tf.Variable(tf.zeros([conv_depth]))\n",
    "    \n",
    "    conv2d_layer = tf.nn.conv2d(x_tensor,\n",
    "                                weights,\n",
    "                                strides=[1, conv_x_stride, conv_y_stride, 1],\n",
    "                                padding='SAME')\n",
    "    conv2d_layer = tf.nn.bias_add(conv2d_layer, biases)\n",
    "    conv2d_layer = tf.nn.relu(conv2d_layer)\n",
    "    maxpool_layer = tf.nn.max_pool(conv2d_layer,\n",
    "                                   ksize=[1, pool_patch_width, pool_patch_height, 1],\n",
    "                                   strides=[1, pool_x_stride, pool_y_stride, 1],\n",
    "                                   padding='SAME') \n",
    "    return maxpool_layer\n",
    "\n",
    "\n",
    "\"\"\"\n",
    "DON'T MODIFY ANYTHING IN THIS CELL THAT IS BELOW THIS LINE\n",
    "\"\"\"\n",
    "tests.test_con_pool(conv2d_maxpool)"
   ]
  },
  {
   "cell_type": "markdown",
   "metadata": {
    "deletable": true,
    "editable": true
   },
   "source": [
    "### Flatten Layer\n",
    "Implement the `flatten` function to change the dimension of `x_tensor` from a 4-D tensor to a 2-D tensor.  The output should be the shape (*Batch Size*, *Flattened Image Size*). Shortcut option: you can use classes from the [TensorFlow Layers](https://www.tensorflow.org/api_docs/python/tf/layers) or [TensorFlow Layers (contrib)](https://www.tensorflow.org/api_guides/python/contrib.layers) packages for this layer. For more of a challenge, only use other TensorFlow packages."
   ]
  },
  {
   "cell_type": "code",
   "execution_count": 42,
   "metadata": {
    "collapsed": false,
    "deletable": true,
    "editable": true
   },
   "outputs": [
    {
     "name": "stdout",
     "output_type": "stream",
     "text": [
      "Tests Passed\n"
     ]
    }
   ],
   "source": [
    "def flatten(x_tensor):\n",
    "    \"\"\"\n",
    "    Flatten x_tensor to (Batch Size, Flattened Image Size)\n",
    "    : x_tensor: A tensor of size (Batch Size, ...), where ... are the image dimensions.\n",
    "    : return: A tensor of size (Batch Size, Flattened Image Size).\n",
    "    \"\"\"\n",
    "    # TODO: Implement Function\n",
    "    \n",
    "    return tf.reshape(x_tensor, \n",
    "                      [-1, x_tensor.get_shape().as_list()[1] * x_tensor.get_shape().as_list()[2] * x_tensor.get_shape().as_list()[3]])\n",
    "\n",
    "\n",
    "\"\"\"\n",
    "DON'T MODIFY ANYTHING IN THIS CELL THAT IS BELOW THIS LINE\n",
    "\"\"\"\n",
    "tests.test_flatten(flatten)"
   ]
  },
  {
   "cell_type": "markdown",
   "metadata": {
    "deletable": true,
    "editable": true
   },
   "source": [
    "### Fully-Connected Layer\n",
    "Implement the `fully_conn` function to apply a fully connected layer to `x_tensor` with the shape (*Batch Size*, *num_outputs*). Shortcut option: you can use classes from the [TensorFlow Layers](https://www.tensorflow.org/api_docs/python/tf/layers) or [TensorFlow Layers (contrib)](https://www.tensorflow.org/api_guides/python/contrib.layers) packages for this layer. For more of a challenge, only use other TensorFlow packages."
   ]
  },
  {
   "cell_type": "code",
   "execution_count": 43,
   "metadata": {
    "collapsed": false,
    "deletable": true,
    "editable": true
   },
   "outputs": [
    {
     "name": "stdout",
     "output_type": "stream",
     "text": [
      "Tests Passed\n"
     ]
    }
   ],
   "source": [
    "def fully_conn(x_tensor, num_outputs):\n",
    "    \"\"\"\n",
    "    Apply a fully connected layer to x_tensor using weight and bias\n",
    "    : x_tensor: A 2-D tensor where the first dimension is batch size.\n",
    "    : num_outputs: The number of output that the new tensor should be.\n",
    "    : return: A 2-D tensor where the second dimension is num_outputs.\n",
    "    \"\"\"\n",
    "    # TODO: Implement Function\n",
    "    \n",
    "    n_inputs = x_tensor.get_shape().as_list()[1]\n",
    "    n_outputs = num_outputs\n",
    "    \n",
    "    weights = tf.Variable(tf.random_normal([n_inputs, n_outputs],stddev=0.1))\n",
    "    biases = tf.Variable(tf.zeros([n_outputs]))\n",
    "    \n",
    "    layer = tf.add(tf.matmul(x_tensor, weights), biases)\n",
    "    layer = tf.nn.relu(layer)\n",
    "    \n",
    "    return layer\n",
    "\n",
    "\n",
    "\"\"\"\n",
    "DON'T MODIFY ANYTHING IN THIS CELL THAT IS BELOW THIS LINE\n",
    "\"\"\"\n",
    "tests.test_fully_conn(fully_conn)"
   ]
  },
  {
   "cell_type": "markdown",
   "metadata": {
    "deletable": true,
    "editable": true
   },
   "source": [
    "### Output Layer\n",
    "Implement the `output` function to apply a fully connected layer to `x_tensor` with the shape (*Batch Size*, *num_outputs*). Shortcut option: you can use classes from the [TensorFlow Layers](https://www.tensorflow.org/api_docs/python/tf/layers) or [TensorFlow Layers (contrib)](https://www.tensorflow.org/api_guides/python/contrib.layers) packages for this layer. For more of a challenge, only use other TensorFlow packages.\n",
    "\n",
    "**Note:** Activation, softmax, or cross entropy should **not** be applied to this."
   ]
  },
  {
   "cell_type": "code",
   "execution_count": 44,
   "metadata": {
    "collapsed": false,
    "deletable": true,
    "editable": true
   },
   "outputs": [
    {
     "name": "stdout",
     "output_type": "stream",
     "text": [
      "Tests Passed\n"
     ]
    }
   ],
   "source": [
    "def output(x_tensor, num_outputs):\n",
    "    \"\"\"\n",
    "    Apply a output layer to x_tensor using weight and bias\n",
    "    : x_tensor: A 2-D tensor where the first dimension is batch size.\n",
    "    : num_outputs: The number of output that the new tensor should be.\n",
    "    : return: A 2-D tensor where the second dimension is num_outputs.\n",
    "    \"\"\"\n",
    "    # TODO: Implement Function\n",
    "    \n",
    "    n_inputs = x_tensor.get_shape().as_list()[1]\n",
    "    n_outputs = num_outputs\n",
    "    \n",
    "    weights = tf.Variable(tf.random_normal([n_inputs, n_outputs],stddev=0.1))\n",
    "    biases = tf.Variable(tf.zeros([n_outputs]))\n",
    "    \n",
    "    layer = tf.add(tf.matmul(x_tensor, weights), biases)\n",
    "    \n",
    "    return layer\n",
    "\n",
    "\n",
    "\"\"\"\n",
    "DON'T MODIFY ANYTHING IN THIS CELL THAT IS BELOW THIS LINE\n",
    "\"\"\"\n",
    "tests.test_output(output)"
   ]
  },
  {
   "cell_type": "markdown",
   "metadata": {
    "deletable": true,
    "editable": true
   },
   "source": [
    "### Create Convolutional Model\n",
    "Implement the function `conv_net` to create a convolutional neural network model. The function takes in a batch of images, `x`, and outputs logits.  Use the layers you created above to create this model:\n",
    "\n",
    "* Apply 1, 2, or 3 Convolution and Max Pool layers\n",
    "* Apply a Flatten Layer\n",
    "* Apply 1, 2, or 3 Fully Connected Layers\n",
    "* Apply an Output Layer\n",
    "* Return the output\n",
    "* Apply [TensorFlow's Dropout](https://www.tensorflow.org/api_docs/python/tf/nn/dropout) to one or more layers in the model using `keep_prob`. "
   ]
  },
  {
   "cell_type": "code",
   "execution_count": 68,
   "metadata": {
    "collapsed": false,
    "deletable": true,
    "editable": true
   },
   "outputs": [
    {
     "name": "stdout",
     "output_type": "stream",
     "text": [
      "Neural Network Built!\n"
     ]
    }
   ],
   "source": [
    "def conv_net(x, keep_prob):\n",
    "    \"\"\"\n",
    "    Create a convolutional neural network model\n",
    "    : x: Placeholder tensor that holds image data.\n",
    "    : keep_prob: Placeholder tensor that hold dropout keep probability.\n",
    "    : return: Tensor that represents logits\n",
    "    \"\"\"\n",
    "    # TODO: Apply 1, 2, or 3 Convolution and Max Pool layers\n",
    "    #    Play around with different number of outputs, kernel size and stride\n",
    "    # Function Definition from Above:\n",
    "    #    conv2d_maxpool(x_tensor, conv_num_outputs, conv_ksize, conv_strides, pool_ksize, pool_strides)\n",
    "    \n",
    "    conv_layer = conv2d_maxpool(x, 8, [5,5], [1,1], [2,2], [2,2])\n",
    "    conv_layer = conv2d_maxpool(conv_layer, 16, [5,5], [1,1], [2,2], [2,2])\n",
    "    conv_layer = conv2d_maxpool(conv_layer, 24, [3,3], [1,1], [2,2], [2,2])\n",
    "    conv_layer = conv2d_maxpool(conv_layer, 32, [3,3], [1,1], [2,2], [2,2])\n",
    "    \n",
    "    \n",
    "\n",
    "    # TODO: Apply a Flatten Layer\n",
    "    # Function Definition from Above:\n",
    "    #   flatten(x_tensor)\n",
    "    \n",
    "    conv_layer = flatten(conv_layer)\n",
    "    \n",
    "\n",
    "    # TODO: Apply 1, 2, or 3 Fully Connected Layers\n",
    "    #    Play around with different number of outputs\n",
    "    # Function Definition from Above:\n",
    "    #   fully_conn(x_tensor, num_outputs)\n",
    "    \n",
    "    fc_layer = fully_conn(conv_layer, 1024)\n",
    "    fc_layer = tf.nn.dropout(fc_layer, keep_prob = keep_prob)\n",
    "    fc_layer = fully_conn(fc_layer, 740)\n",
    "    fc_layer = fully_conn(fc_layer, 512)\n",
    "    fc_layer = fully_conn(fc_layer, 256)\n",
    "    \n",
    "    \n",
    "    \n",
    "    # TODO: Apply an Output Layer\n",
    "    #    Set this to the number of classes\n",
    "    # Function Definition from Above:\n",
    "    #   output(x_tensor, num_outputs)\n",
    "    output_layer = output(fc_layer, 10)\n",
    "    \n",
    "    # TODO: return output\n",
    "    return output_layer\n",
    "\n",
    "\n",
    "\"\"\"\n",
    "DON'T MODIFY ANYTHING IN THIS CELL THAT IS BELOW THIS LINE\n",
    "\"\"\"\n",
    "\n",
    "##############################\n",
    "## Build the Neural Network ##\n",
    "##############################\n",
    "\n",
    "# Remove previous weights, bias, inputs, etc..\n",
    "tf.reset_default_graph()\n",
    "\n",
    "# Inputs\n",
    "x = neural_net_image_input((32, 32, 3))\n",
    "y = neural_net_label_input(10)\n",
    "keep_prob = neural_net_keep_prob_input()\n",
    "\n",
    "# Model\n",
    "logits = conv_net(x, keep_prob)\n",
    "\n",
    "# Name logits Tensor, so that is can be loaded from disk after training\n",
    "logits = tf.identity(logits, name='logits')\n",
    "\n",
    "# Loss and Optimizer\n",
    "cost = tf.reduce_mean(tf.nn.softmax_cross_entropy_with_logits(logits=logits, labels=y))\n",
    "optimizer = tf.train.AdamOptimizer().minimize(cost)\n",
    "\n",
    "# Accuracy\n",
    "correct_pred = tf.equal(tf.argmax(logits, 1), tf.argmax(y, 1))\n",
    "accuracy = tf.reduce_mean(tf.cast(correct_pred, tf.float32), name='accuracy')\n",
    "\n",
    "tests.test_conv_net(conv_net)"
   ]
  },
  {
   "cell_type": "markdown",
   "metadata": {
    "deletable": true,
    "editable": true
   },
   "source": [
    "## Train the Neural Network\n",
    "### Single Optimization\n",
    "Implement the function `train_neural_network` to do a single optimization.  The optimization should use `optimizer` to optimize in `session` with a `feed_dict` of the following:\n",
    "* `x` for image input\n",
    "* `y` for labels\n",
    "* `keep_prob` for keep probability for dropout\n",
    "\n",
    "This function will be called for each batch, so `tf.global_variables_initializer()` has already been called.\n",
    "\n",
    "Note: Nothing needs to be returned. This function is only optimizing the neural network."
   ]
  },
  {
   "cell_type": "code",
   "execution_count": 69,
   "metadata": {
    "collapsed": false,
    "deletable": true,
    "editable": true
   },
   "outputs": [
    {
     "name": "stdout",
     "output_type": "stream",
     "text": [
      "Tests Passed\n"
     ]
    }
   ],
   "source": [
    "def train_neural_network(session, optimizer, keep_probability, feature_batch, label_batch):\n",
    "    \"\"\"\n",
    "    Optimize the session on a batch of images and labels\n",
    "    : session: Current TensorFlow session\n",
    "    : optimizer: TensorFlow optimizer function\n",
    "    : keep_probability: keep probability\n",
    "    : feature_batch: Batch of Numpy image data\n",
    "    : label_batch: Batch of Numpy label data\n",
    "    \"\"\"\n",
    "    # TODO: Implement Function\n",
    "    session.run(optimizer, feed_dict={\n",
    "                x: feature_batch,\n",
    "                y: label_batch,\n",
    "                keep_prob: keep_probability})\n",
    "    pass\n",
    "\n",
    "\n",
    "\"\"\"\n",
    "DON'T MODIFY ANYTHING IN THIS CELL THAT IS BELOW THIS LINE\n",
    "\"\"\"\n",
    "tests.test_train_nn(train_neural_network)"
   ]
  },
  {
   "cell_type": "markdown",
   "metadata": {
    "deletable": true,
    "editable": true
   },
   "source": [
    "### Show Stats\n",
    "Implement the function `print_stats` to print loss and validation accuracy.  Use the global variables `valid_features` and `valid_labels` to calculate validation accuracy.  Use a keep probability of `1.0` to calculate the loss and validation accuracy."
   ]
  },
  {
   "cell_type": "code",
   "execution_count": 70,
   "metadata": {
    "collapsed": false,
    "deletable": true,
    "editable": true
   },
   "outputs": [],
   "source": [
    "def print_stats(session, feature_batch, label_batch, cost, accuracy):\n",
    "    \"\"\"\n",
    "    Print information about loss and validation accuracy\n",
    "    : session: Current TensorFlow session\n",
    "    : feature_batch: Batch of Numpy image data\n",
    "    : label_batch: Batch of Numpy label data\n",
    "    : cost: TensorFlow cost function\n",
    "    : accuracy: TensorFlow accuracy function\n",
    "    \"\"\"\n",
    "    # TODO: Implement Function\n",
    "    loss = session.run(cost, feed_dict={\n",
    "                x: feature_batch,\n",
    "                y: label_batch,\n",
    "                keep_prob: 1.})\n",
    "    valid_acc = session.run(accuracy, feed_dict={\n",
    "                x: valid_features,\n",
    "                y: valid_labels,\n",
    "                keep_prob: 1.})\n",
    "    print('Loss: {:>10.4f}, Validation_Accuracy: {:.6f}'.format(loss, valid_acc))\n",
    "    pass"
   ]
  },
  {
   "cell_type": "markdown",
   "metadata": {
    "deletable": true,
    "editable": true
   },
   "source": [
    "### Hyperparameters\n",
    "Tune the following parameters:\n",
    "* Set `epochs` to the number of iterations until the network stops learning or start overfitting\n",
    "* Set `batch_size` to the highest number that your machine has memory for.  Most people set them to common sizes of memory:\n",
    " * 64\n",
    " * 128\n",
    " * 256\n",
    " * ...\n",
    "* Set `keep_probability` to the probability of keeping a node using dropout"
   ]
  },
  {
   "cell_type": "code",
   "execution_count": 71,
   "metadata": {
    "collapsed": true,
    "deletable": true,
    "editable": true
   },
   "outputs": [],
   "source": [
    "# TODO: Tune Parameters\n",
    "epochs = 60\n",
    "batch_size = 1024\n",
    "keep_probability = 0.75"
   ]
  },
  {
   "cell_type": "markdown",
   "metadata": {
    "deletable": true,
    "editable": true
   },
   "source": [
    "### Train on a Single CIFAR-10 Batch\n",
    "Instead of training the neural network on all the CIFAR-10 batches of data, let's use a single batch. This should save time while you iterate on the model to get a better accuracy.  Once the final validation accuracy is 50% or greater, run the model on all the data in the next section."
   ]
  },
  {
   "cell_type": "code",
   "execution_count": 72,
   "metadata": {
    "collapsed": false,
    "deletable": true,
    "editable": true
   },
   "outputs": [
    {
     "name": "stdout",
     "output_type": "stream",
     "text": [
      "Checking the Training on a Single Batch...\n",
      "Epoch  1, CIFAR-10 Batch 1:  Loss:     2.2482, Validation_Accuracy: 0.173200\n",
      "Epoch  2, CIFAR-10 Batch 1:  Loss:     2.0936, Validation_Accuracy: 0.230000\n",
      "Epoch  3, CIFAR-10 Batch 1:  Loss:     1.8602, Validation_Accuracy: 0.317200\n",
      "Epoch  4, CIFAR-10 Batch 1:  Loss:     1.7191, Validation_Accuracy: 0.341800\n",
      "Epoch  5, CIFAR-10 Batch 1:  Loss:     1.6454, Validation_Accuracy: 0.366600\n",
      "Epoch  6, CIFAR-10 Batch 1:  Loss:     1.5988, Validation_Accuracy: 0.375400\n",
      "Epoch  7, CIFAR-10 Batch 1:  Loss:     1.5478, Validation_Accuracy: 0.381600\n",
      "Epoch  8, CIFAR-10 Batch 1:  Loss:     1.4963, Validation_Accuracy: 0.402800\n",
      "Epoch  9, CIFAR-10 Batch 1:  Loss:     1.4321, Validation_Accuracy: 0.415000\n",
      "Epoch 10, CIFAR-10 Batch 1:  Loss:     1.4506, Validation_Accuracy: 0.405800\n",
      "Epoch 11, CIFAR-10 Batch 1:  Loss:     1.3573, Validation_Accuracy: 0.426600\n",
      "Epoch 12, CIFAR-10 Batch 1:  Loss:     1.3019, Validation_Accuracy: 0.435600\n",
      "Epoch 13, CIFAR-10 Batch 1:  Loss:     1.2591, Validation_Accuracy: 0.442200\n",
      "Epoch 14, CIFAR-10 Batch 1:  Loss:     1.2331, Validation_Accuracy: 0.444600\n",
      "Epoch 15, CIFAR-10 Batch 1:  Loss:     1.1952, Validation_Accuracy: 0.440600\n",
      "Epoch 16, CIFAR-10 Batch 1:  Loss:     1.1421, Validation_Accuracy: 0.447600\n",
      "Epoch 17, CIFAR-10 Batch 1:  Loss:     1.0965, Validation_Accuracy: 0.445800\n",
      "Epoch 18, CIFAR-10 Batch 1:  Loss:     1.0541, Validation_Accuracy: 0.448800\n",
      "Epoch 19, CIFAR-10 Batch 1:  Loss:     1.0054, Validation_Accuracy: 0.451000\n",
      "Epoch 20, CIFAR-10 Batch 1:  Loss:     0.9789, Validation_Accuracy: 0.450600\n",
      "Epoch 21, CIFAR-10 Batch 1:  Loss:     0.9354, Validation_Accuracy: 0.449800\n",
      "Epoch 22, CIFAR-10 Batch 1:  Loss:     0.8860, Validation_Accuracy: 0.452400\n",
      "Epoch 23, CIFAR-10 Batch 1:  Loss:     0.9011, Validation_Accuracy: 0.443200\n",
      "Epoch 24, CIFAR-10 Batch 1:  Loss:     0.8851, Validation_Accuracy: 0.444600\n",
      "Epoch 25, CIFAR-10 Batch 1:  Loss:     0.8573, Validation_Accuracy: 0.464000\n",
      "Epoch 26, CIFAR-10 Batch 1:  Loss:     0.8209, Validation_Accuracy: 0.466200\n",
      "Epoch 27, CIFAR-10 Batch 1:  Loss:     0.7842, Validation_Accuracy: 0.464400\n",
      "Epoch 28, CIFAR-10 Batch 1:  Loss:     0.7053, Validation_Accuracy: 0.465800\n",
      "Epoch 29, CIFAR-10 Batch 1:  Loss:     0.6884, Validation_Accuracy: 0.467400\n",
      "Epoch 30, CIFAR-10 Batch 1:  Loss:     0.6069, Validation_Accuracy: 0.470000\n",
      "Epoch 31, CIFAR-10 Batch 1:  Loss:     0.5537, Validation_Accuracy: 0.472000\n",
      "Epoch 32, CIFAR-10 Batch 1:  Loss:     0.4984, Validation_Accuracy: 0.455800\n",
      "Epoch 33, CIFAR-10 Batch 1:  Loss:     0.4294, Validation_Accuracy: 0.469800\n",
      "Epoch 34, CIFAR-10 Batch 1:  Loss:     0.4543, Validation_Accuracy: 0.457600\n",
      "Epoch 35, CIFAR-10 Batch 1:  Loss:     0.4008, Validation_Accuracy: 0.450800\n",
      "Epoch 36, CIFAR-10 Batch 1:  Loss:     0.3666, Validation_Accuracy: 0.456600\n",
      "Epoch 37, CIFAR-10 Batch 1:  Loss:     0.3998, Validation_Accuracy: 0.454200\n",
      "Epoch 38, CIFAR-10 Batch 1:  Loss:     0.3645, Validation_Accuracy: 0.459000\n",
      "Epoch 39, CIFAR-10 Batch 1:  Loss:     0.3113, Validation_Accuracy: 0.463600\n",
      "Epoch 40, CIFAR-10 Batch 1:  Loss:     0.2757, Validation_Accuracy: 0.456600\n",
      "Epoch 41, CIFAR-10 Batch 1:  Loss:     0.2576, Validation_Accuracy: 0.461400\n",
      "Epoch 42, CIFAR-10 Batch 1:  Loss:     0.2189, Validation_Accuracy: 0.453600\n",
      "Epoch 43, CIFAR-10 Batch 1:  Loss:     0.2057, Validation_Accuracy: 0.457400\n",
      "Epoch 44, CIFAR-10 Batch 1:  Loss:     0.2583, Validation_Accuracy: 0.451000\n",
      "Epoch 45, CIFAR-10 Batch 1:  Loss:     0.2289, Validation_Accuracy: 0.448400\n",
      "Epoch 46, CIFAR-10 Batch 1:  Loss:     0.1808, Validation_Accuracy: 0.453400\n",
      "Epoch 47, CIFAR-10 Batch 1:  Loss:     0.1708, Validation_Accuracy: 0.462400\n",
      "Epoch 48, CIFAR-10 Batch 1:  Loss:     0.1554, Validation_Accuracy: 0.452800\n",
      "Epoch 49, CIFAR-10 Batch 1:  Loss:     0.1569, Validation_Accuracy: 0.439200\n",
      "Epoch 50, CIFAR-10 Batch 1:  Loss:     0.1118, Validation_Accuracy: 0.456400\n",
      "Epoch 51, CIFAR-10 Batch 1:  Loss:     0.1009, Validation_Accuracy: 0.470400\n",
      "Epoch 52, CIFAR-10 Batch 1:  Loss:     0.1019, Validation_Accuracy: 0.463200\n",
      "Epoch 53, CIFAR-10 Batch 1:  Loss:     0.1042, Validation_Accuracy: 0.466600\n",
      "Epoch 54, CIFAR-10 Batch 1:  Loss:     0.0980, Validation_Accuracy: 0.455000\n",
      "Epoch 55, CIFAR-10 Batch 1:  Loss:     0.0605, Validation_Accuracy: 0.464600\n",
      "Epoch 56, CIFAR-10 Batch 1:  Loss:     0.0451, Validation_Accuracy: 0.462400\n",
      "Epoch 57, CIFAR-10 Batch 1:  Loss:     0.0553, Validation_Accuracy: 0.451000\n",
      "Epoch 58, CIFAR-10 Batch 1:  Loss:     0.0468, Validation_Accuracy: 0.456400\n",
      "Epoch 59, CIFAR-10 Batch 1:  Loss:     0.0464, Validation_Accuracy: 0.452000\n",
      "Epoch 60, CIFAR-10 Batch 1:  Loss:     0.0404, Validation_Accuracy: 0.453600\n"
     ]
    }
   ],
   "source": [
    "\"\"\"\n",
    "DON'T MODIFY ANYTHING IN THIS CELL\n",
    "\"\"\"\n",
    "print('Checking the Training on a Single Batch...')\n",
    "with tf.Session() as sess:\n",
    "    # Initializing the variables\n",
    "    sess.run(tf.global_variables_initializer())\n",
    "    \n",
    "    # Training cycle\n",
    "    for epoch in range(epochs):\n",
    "        batch_i = 1\n",
    "        for batch_features, batch_labels in helper.load_preprocess_training_batch(batch_i, batch_size):\n",
    "            train_neural_network(sess, optimizer, keep_probability, batch_features, batch_labels)\n",
    "        print('Epoch {:>2}, CIFAR-10 Batch {}:  '.format(epoch + 1, batch_i), end='')\n",
    "        print_stats(sess, batch_features, batch_labels, cost, accuracy)"
   ]
  },
  {
   "cell_type": "markdown",
   "metadata": {
    "deletable": true,
    "editable": true
   },
   "source": [
    "### Fully Train the Model\n",
    "Now that you got a good accuracy with a single CIFAR-10 batch, try it with all five batches."
   ]
  },
  {
   "cell_type": "code",
   "execution_count": 73,
   "metadata": {
    "collapsed": false,
    "deletable": true,
    "editable": true
   },
   "outputs": [
    {
     "name": "stdout",
     "output_type": "stream",
     "text": [
      "Training...\n",
      "Epoch  1, CIFAR-10 Batch 1:  Loss:     2.3826, Validation_Accuracy: 0.102000\n",
      "Epoch  1, CIFAR-10 Batch 2:  Loss:     2.2781, Validation_Accuracy: 0.142800\n",
      "Epoch  1, CIFAR-10 Batch 3:  Loss:     2.1783, Validation_Accuracy: 0.193200\n",
      "Epoch  1, CIFAR-10 Batch 4:  Loss:     2.0319, Validation_Accuracy: 0.265400\n",
      "Epoch  1, CIFAR-10 Batch 5:  Loss:     1.9198, Validation_Accuracy: 0.287800\n",
      "Epoch  2, CIFAR-10 Batch 1:  Loss:     1.8619, Validation_Accuracy: 0.327400\n",
      "Epoch  2, CIFAR-10 Batch 2:  Loss:     1.7639, Validation_Accuracy: 0.352000\n",
      "Epoch  2, CIFAR-10 Batch 3:  Loss:     1.6853, Validation_Accuracy: 0.369400\n",
      "Epoch  2, CIFAR-10 Batch 4:  Loss:     1.6376, Validation_Accuracy: 0.383800\n",
      "Epoch  2, CIFAR-10 Batch 5:  Loss:     1.6558, Validation_Accuracy: 0.400000\n",
      "Epoch  3, CIFAR-10 Batch 1:  Loss:     1.6421, Validation_Accuracy: 0.405800\n",
      "Epoch  3, CIFAR-10 Batch 2:  Loss:     1.5777, Validation_Accuracy: 0.413200\n",
      "Epoch  3, CIFAR-10 Batch 3:  Loss:     1.4940, Validation_Accuracy: 0.429000\n",
      "Epoch  3, CIFAR-10 Batch 4:  Loss:     1.4816, Validation_Accuracy: 0.439000\n",
      "Epoch  3, CIFAR-10 Batch 5:  Loss:     1.5129, Validation_Accuracy: 0.440000\n",
      "Epoch  4, CIFAR-10 Batch 1:  Loss:     1.5253, Validation_Accuracy: 0.450800\n",
      "Epoch  4, CIFAR-10 Batch 2:  Loss:     1.4832, Validation_Accuracy: 0.448800\n",
      "Epoch  4, CIFAR-10 Batch 3:  Loss:     1.4023, Validation_Accuracy: 0.460000\n",
      "Epoch  4, CIFAR-10 Batch 4:  Loss:     1.3920, Validation_Accuracy: 0.466800\n",
      "Epoch  4, CIFAR-10 Batch 5:  Loss:     1.4109, Validation_Accuracy: 0.467000\n",
      "Epoch  5, CIFAR-10 Batch 1:  Loss:     1.4435, Validation_Accuracy: 0.478600\n",
      "Epoch  5, CIFAR-10 Batch 2:  Loss:     1.4133, Validation_Accuracy: 0.475400\n",
      "Epoch  5, CIFAR-10 Batch 3:  Loss:     1.3369, Validation_Accuracy: 0.475800\n",
      "Epoch  5, CIFAR-10 Batch 4:  Loss:     1.3157, Validation_Accuracy: 0.488000\n",
      "Epoch  5, CIFAR-10 Batch 5:  Loss:     1.3439, Validation_Accuracy: 0.479200\n",
      "Epoch  6, CIFAR-10 Batch 1:  Loss:     1.3819, Validation_Accuracy: 0.496200\n",
      "Epoch  6, CIFAR-10 Batch 2:  Loss:     1.3443, Validation_Accuracy: 0.503600\n",
      "Epoch  6, CIFAR-10 Batch 3:  Loss:     1.2813, Validation_Accuracy: 0.494000\n",
      "Epoch  6, CIFAR-10 Batch 4:  Loss:     1.2527, Validation_Accuracy: 0.499400\n",
      "Epoch  6, CIFAR-10 Batch 5:  Loss:     1.2671, Validation_Accuracy: 0.496400\n",
      "Epoch  7, CIFAR-10 Batch 1:  Loss:     1.3263, Validation_Accuracy: 0.507400\n",
      "Epoch  7, CIFAR-10 Batch 2:  Loss:     1.2994, Validation_Accuracy: 0.510000\n",
      "Epoch  7, CIFAR-10 Batch 3:  Loss:     1.2358, Validation_Accuracy: 0.505600\n",
      "Epoch  7, CIFAR-10 Batch 4:  Loss:     1.1963, Validation_Accuracy: 0.518200\n",
      "Epoch  7, CIFAR-10 Batch 5:  Loss:     1.2137, Validation_Accuracy: 0.508800\n",
      "Epoch  8, CIFAR-10 Batch 1:  Loss:     1.2531, Validation_Accuracy: 0.521000\n",
      "Epoch  8, CIFAR-10 Batch 2:  Loss:     1.2619, Validation_Accuracy: 0.518000\n",
      "Epoch  8, CIFAR-10 Batch 3:  Loss:     1.1842, Validation_Accuracy: 0.516800\n",
      "Epoch  8, CIFAR-10 Batch 4:  Loss:     1.1538, Validation_Accuracy: 0.522600\n",
      "Epoch  8, CIFAR-10 Batch 5:  Loss:     1.1576, Validation_Accuracy: 0.519200\n",
      "Epoch  9, CIFAR-10 Batch 1:  Loss:     1.2204, Validation_Accuracy: 0.529600\n",
      "Epoch  9, CIFAR-10 Batch 2:  Loss:     1.2240, Validation_Accuracy: 0.525600\n",
      "Epoch  9, CIFAR-10 Batch 3:  Loss:     1.1283, Validation_Accuracy: 0.531200\n",
      "Epoch  9, CIFAR-10 Batch 4:  Loss:     1.1085, Validation_Accuracy: 0.531400\n",
      "Epoch  9, CIFAR-10 Batch 5:  Loss:     1.1191, Validation_Accuracy: 0.530800\n",
      "Epoch 10, CIFAR-10 Batch 1:  Loss:     1.1798, Validation_Accuracy: 0.534400\n",
      "Epoch 10, CIFAR-10 Batch 2:  Loss:     1.1729, Validation_Accuracy: 0.532400\n",
      "Epoch 10, CIFAR-10 Batch 3:  Loss:     1.0819, Validation_Accuracy: 0.541200\n",
      "Epoch 10, CIFAR-10 Batch 4:  Loss:     1.0593, Validation_Accuracy: 0.536800\n",
      "Epoch 10, CIFAR-10 Batch 5:  Loss:     1.0811, Validation_Accuracy: 0.534400\n",
      "Epoch 11, CIFAR-10 Batch 1:  Loss:     1.1414, Validation_Accuracy: 0.539600\n",
      "Epoch 11, CIFAR-10 Batch 2:  Loss:     1.1143, Validation_Accuracy: 0.541200\n",
      "Epoch 11, CIFAR-10 Batch 3:  Loss:     1.0341, Validation_Accuracy: 0.548200\n",
      "Epoch 11, CIFAR-10 Batch 4:  Loss:     1.0267, Validation_Accuracy: 0.539400\n",
      "Epoch 11, CIFAR-10 Batch 5:  Loss:     1.0357, Validation_Accuracy: 0.536800\n",
      "Epoch 12, CIFAR-10 Batch 1:  Loss:     1.1160, Validation_Accuracy: 0.540000\n",
      "Epoch 12, CIFAR-10 Batch 2:  Loss:     1.0768, Validation_Accuracy: 0.540600\n",
      "Epoch 12, CIFAR-10 Batch 3:  Loss:     1.0019, Validation_Accuracy: 0.554000\n",
      "Epoch 12, CIFAR-10 Batch 4:  Loss:     1.0031, Validation_Accuracy: 0.546000\n",
      "Epoch 12, CIFAR-10 Batch 5:  Loss:     1.0112, Validation_Accuracy: 0.546200\n",
      "Epoch 13, CIFAR-10 Batch 1:  Loss:     1.0733, Validation_Accuracy: 0.550400\n",
      "Epoch 13, CIFAR-10 Batch 2:  Loss:     1.0558, Validation_Accuracy: 0.557000\n",
      "Epoch 13, CIFAR-10 Batch 3:  Loss:     0.9476, Validation_Accuracy: 0.555800\n",
      "Epoch 13, CIFAR-10 Batch 4:  Loss:     0.9514, Validation_Accuracy: 0.550200\n",
      "Epoch 13, CIFAR-10 Batch 5:  Loss:     0.9527, Validation_Accuracy: 0.549800\n",
      "Epoch 14, CIFAR-10 Batch 1:  Loss:     1.0115, Validation_Accuracy: 0.558200\n",
      "Epoch 14, CIFAR-10 Batch 2:  Loss:     1.0258, Validation_Accuracy: 0.553400\n",
      "Epoch 14, CIFAR-10 Batch 3:  Loss:     0.9696, Validation_Accuracy: 0.547200\n",
      "Epoch 14, CIFAR-10 Batch 4:  Loss:     0.9152, Validation_Accuracy: 0.550000\n",
      "Epoch 14, CIFAR-10 Batch 5:  Loss:     0.9372, Validation_Accuracy: 0.553800\n",
      "Epoch 15, CIFAR-10 Batch 1:  Loss:     0.9640, Validation_Accuracy: 0.564600\n",
      "Epoch 15, CIFAR-10 Batch 2:  Loss:     0.9611, Validation_Accuracy: 0.564400\n",
      "Epoch 15, CIFAR-10 Batch 3:  Loss:     0.9186, Validation_Accuracy: 0.549400\n",
      "Epoch 15, CIFAR-10 Batch 4:  Loss:     0.9046, Validation_Accuracy: 0.550200\n",
      "Epoch 15, CIFAR-10 Batch 5:  Loss:     0.8953, Validation_Accuracy: 0.556000\n",
      "Epoch 16, CIFAR-10 Batch 1:  Loss:     0.9384, Validation_Accuracy: 0.560000\n",
      "Epoch 16, CIFAR-10 Batch 2:  Loss:     0.9170, Validation_Accuracy: 0.563200\n",
      "Epoch 16, CIFAR-10 Batch 3:  Loss:     0.8455, Validation_Accuracy: 0.553800\n",
      "Epoch 16, CIFAR-10 Batch 4:  Loss:     0.9070, Validation_Accuracy: 0.550200\n",
      "Epoch 16, CIFAR-10 Batch 5:  Loss:     0.8801, Validation_Accuracy: 0.548800\n",
      "Epoch 17, CIFAR-10 Batch 1:  Loss:     0.9274, Validation_Accuracy: 0.556800\n",
      "Epoch 17, CIFAR-10 Batch 2:  Loss:     0.9499, Validation_Accuracy: 0.545000\n",
      "Epoch 17, CIFAR-10 Batch 3:  Loss:     0.8289, Validation_Accuracy: 0.563600\n",
      "Epoch 17, CIFAR-10 Batch 4:  Loss:     0.8374, Validation_Accuracy: 0.549800\n",
      "Epoch 17, CIFAR-10 Batch 5:  Loss:     0.8228, Validation_Accuracy: 0.559800\n",
      "Epoch 18, CIFAR-10 Batch 1:  Loss:     0.9023, Validation_Accuracy: 0.553200\n",
      "Epoch 18, CIFAR-10 Batch 2:  Loss:     0.9238, Validation_Accuracy: 0.542200\n",
      "Epoch 18, CIFAR-10 Batch 3:  Loss:     0.8093, Validation_Accuracy: 0.559400\n",
      "Epoch 18, CIFAR-10 Batch 4:  Loss:     0.8567, Validation_Accuracy: 0.552000\n",
      "Epoch 18, CIFAR-10 Batch 5:  Loss:     0.8189, Validation_Accuracy: 0.551000\n",
      "Epoch 19, CIFAR-10 Batch 1:  Loss:     0.8636, Validation_Accuracy: 0.553800\n",
      "Epoch 19, CIFAR-10 Batch 2:  Loss:     0.8712, Validation_Accuracy: 0.547600\n",
      "Epoch 19, CIFAR-10 Batch 3:  Loss:     0.8522, Validation_Accuracy: 0.534600\n",
      "Epoch 19, CIFAR-10 Batch 4:  Loss:     0.7937, Validation_Accuracy: 0.562600\n",
      "Epoch 19, CIFAR-10 Batch 5:  Loss:     0.7789, Validation_Accuracy: 0.559400\n",
      "Epoch 20, CIFAR-10 Batch 1:  Loss:     0.8127, Validation_Accuracy: 0.564000\n",
      "Epoch 20, CIFAR-10 Batch 2:  Loss:     0.8257, Validation_Accuracy: 0.556800\n",
      "Epoch 20, CIFAR-10 Batch 3:  Loss:     0.8952, Validation_Accuracy: 0.532200\n",
      "Epoch 20, CIFAR-10 Batch 4:  Loss:     0.8199, Validation_Accuracy: 0.540200\n",
      "Epoch 20, CIFAR-10 Batch 5:  Loss:     0.8228, Validation_Accuracy: 0.553400\n",
      "Epoch 21, CIFAR-10 Batch 1:  Loss:     0.8172, Validation_Accuracy: 0.554600\n",
      "Epoch 21, CIFAR-10 Batch 2:  Loss:     0.8137, Validation_Accuracy: 0.559200\n",
      "Epoch 21, CIFAR-10 Batch 3:  Loss:     0.7540, Validation_Accuracy: 0.549000\n",
      "Epoch 21, CIFAR-10 Batch 4:  Loss:     0.7622, Validation_Accuracy: 0.556200\n",
      "Epoch 21, CIFAR-10 Batch 5:  Loss:     0.7681, Validation_Accuracy: 0.548400\n",
      "Epoch 22, CIFAR-10 Batch 1:  Loss:     0.7968, Validation_Accuracy: 0.560000\n",
      "Epoch 22, CIFAR-10 Batch 2:  Loss:     0.8004, Validation_Accuracy: 0.562000\n",
      "Epoch 22, CIFAR-10 Batch 3:  Loss:     0.7388, Validation_Accuracy: 0.546400\n",
      "Epoch 22, CIFAR-10 Batch 4:  Loss:     0.7327, Validation_Accuracy: 0.554200\n",
      "Epoch 22, CIFAR-10 Batch 5:  Loss:     0.7039, Validation_Accuracy: 0.564000\n",
      "Epoch 23, CIFAR-10 Batch 1:  Loss:     0.7458, Validation_Accuracy: 0.562800\n",
      "Epoch 23, CIFAR-10 Batch 2:  Loss:     0.7416, Validation_Accuracy: 0.565400\n",
      "Epoch 23, CIFAR-10 Batch 3:  Loss:     0.6891, Validation_Accuracy: 0.557800\n",
      "Epoch 23, CIFAR-10 Batch 4:  Loss:     0.7084, Validation_Accuracy: 0.560000\n",
      "Epoch 23, CIFAR-10 Batch 5:  Loss:     0.6928, Validation_Accuracy: 0.556600\n",
      "Epoch 24, CIFAR-10 Batch 1:  Loss:     0.7310, Validation_Accuracy: 0.556400\n",
      "Epoch 24, CIFAR-10 Batch 2:  Loss:     0.7461, Validation_Accuracy: 0.548000\n",
      "Epoch 24, CIFAR-10 Batch 3:  Loss:     0.6661, Validation_Accuracy: 0.555600\n",
      "Epoch 24, CIFAR-10 Batch 4:  Loss:     0.6385, Validation_Accuracy: 0.560400\n",
      "Epoch 24, CIFAR-10 Batch 5:  Loss:     0.6468, Validation_Accuracy: 0.551600\n",
      "Epoch 25, CIFAR-10 Batch 1:  Loss:     0.7282, Validation_Accuracy: 0.566600\n",
      "Epoch 25, CIFAR-10 Batch 2:  Loss:     0.7245, Validation_Accuracy: 0.553600\n",
      "Epoch 25, CIFAR-10 Batch 3:  Loss:     0.6455, Validation_Accuracy: 0.557200\n",
      "Epoch 25, CIFAR-10 Batch 4:  Loss:     0.6211, Validation_Accuracy: 0.562800\n",
      "Epoch 25, CIFAR-10 Batch 5:  Loss:     0.6398, Validation_Accuracy: 0.552400\n",
      "Epoch 26, CIFAR-10 Batch 1:  Loss:     0.6878, Validation_Accuracy: 0.567200\n",
      "Epoch 26, CIFAR-10 Batch 2:  Loss:     0.6896, Validation_Accuracy: 0.567800\n",
      "Epoch 26, CIFAR-10 Batch 3:  Loss:     0.6213, Validation_Accuracy: 0.563000\n",
      "Epoch 26, CIFAR-10 Batch 4:  Loss:     0.6046, Validation_Accuracy: 0.568800\n",
      "Epoch 26, CIFAR-10 Batch 5:  Loss:     0.5930, Validation_Accuracy: 0.561600\n",
      "Epoch 27, CIFAR-10 Batch 1:  Loss:     0.6542, Validation_Accuracy: 0.567800\n",
      "Epoch 27, CIFAR-10 Batch 2:  Loss:     0.6682, Validation_Accuracy: 0.557000\n",
      "Epoch 27, CIFAR-10 Batch 3:  Loss:     0.6145, Validation_Accuracy: 0.564600\n",
      "Epoch 27, CIFAR-10 Batch 4:  Loss:     0.5995, Validation_Accuracy: 0.565800\n",
      "Epoch 27, CIFAR-10 Batch 5:  Loss:     0.6008, Validation_Accuracy: 0.555000\n",
      "Epoch 28, CIFAR-10 Batch 1:  Loss:     0.6210, Validation_Accuracy: 0.567200\n",
      "Epoch 28, CIFAR-10 Batch 2:  Loss:     0.6284, Validation_Accuracy: 0.560000\n",
      "Epoch 28, CIFAR-10 Batch 3:  Loss:     0.5876, Validation_Accuracy: 0.562600\n",
      "Epoch 28, CIFAR-10 Batch 4:  Loss:     0.6095, Validation_Accuracy: 0.563400\n",
      "Epoch 28, CIFAR-10 Batch 5:  Loss:     0.6178, Validation_Accuracy: 0.551800\n",
      "Epoch 29, CIFAR-10 Batch 1:  Loss:     0.6871, Validation_Accuracy: 0.547400\n",
      "Epoch 29, CIFAR-10 Batch 2:  Loss:     0.6769, Validation_Accuracy: 0.563000\n",
      "Epoch 29, CIFAR-10 Batch 3:  Loss:     0.5486, Validation_Accuracy: 0.565800\n",
      "Epoch 29, CIFAR-10 Batch 4:  Loss:     0.6067, Validation_Accuracy: 0.563400\n",
      "Epoch 29, CIFAR-10 Batch 5:  Loss:     0.6469, Validation_Accuracy: 0.549200\n",
      "Epoch 30, CIFAR-10 Batch 1:  Loss:     0.6174, Validation_Accuracy: 0.558000\n",
      "Epoch 30, CIFAR-10 Batch 2:  Loss:     0.6127, Validation_Accuracy: 0.558000\n",
      "Epoch 30, CIFAR-10 Batch 3:  Loss:     0.5613, Validation_Accuracy: 0.560200\n",
      "Epoch 30, CIFAR-10 Batch 4:  Loss:     0.5778, Validation_Accuracy: 0.560400\n",
      "Epoch 30, CIFAR-10 Batch 5:  Loss:     0.5382, Validation_Accuracy: 0.557200\n",
      "Epoch 31, CIFAR-10 Batch 1:  Loss:     0.5591, Validation_Accuracy: 0.560800\n",
      "Epoch 31, CIFAR-10 Batch 2:  Loss:     0.6324, Validation_Accuracy: 0.549400\n",
      "Epoch 31, CIFAR-10 Batch 3:  Loss:     0.5448, Validation_Accuracy: 0.557000\n",
      "Epoch 31, CIFAR-10 Batch 4:  Loss:     0.5376, Validation_Accuracy: 0.558000\n",
      "Epoch 31, CIFAR-10 Batch 5:  Loss:     0.4903, Validation_Accuracy: 0.551000\n",
      "Epoch 32, CIFAR-10 Batch 1:  Loss:     0.5410, Validation_Accuracy: 0.557400\n",
      "Epoch 32, CIFAR-10 Batch 2:  Loss:     0.6340, Validation_Accuracy: 0.539200\n",
      "Epoch 32, CIFAR-10 Batch 3:  Loss:     0.4889, Validation_Accuracy: 0.562200\n",
      "Epoch 32, CIFAR-10 Batch 4:  Loss:     0.5252, Validation_Accuracy: 0.552200\n",
      "Epoch 32, CIFAR-10 Batch 5:  Loss:     0.4857, Validation_Accuracy: 0.556800\n",
      "Epoch 33, CIFAR-10 Batch 1:  Loss:     0.5114, Validation_Accuracy: 0.559000\n",
      "Epoch 33, CIFAR-10 Batch 2:  Loss:     0.5754, Validation_Accuracy: 0.548600\n",
      "Epoch 33, CIFAR-10 Batch 3:  Loss:     0.5198, Validation_Accuracy: 0.546200\n",
      "Epoch 33, CIFAR-10 Batch 4:  Loss:     0.5136, Validation_Accuracy: 0.557200\n",
      "Epoch 33, CIFAR-10 Batch 5:  Loss:     0.4817, Validation_Accuracy: 0.563800\n",
      "Epoch 34, CIFAR-10 Batch 1:  Loss:     0.5124, Validation_Accuracy: 0.549000\n",
      "Epoch 34, CIFAR-10 Batch 2:  Loss:     0.5280, Validation_Accuracy: 0.552800\n",
      "Epoch 34, CIFAR-10 Batch 3:  Loss:     0.4944, Validation_Accuracy: 0.556000\n",
      "Epoch 34, CIFAR-10 Batch 4:  Loss:     0.5198, Validation_Accuracy: 0.559200\n",
      "Epoch 34, CIFAR-10 Batch 5:  Loss:     0.5020, Validation_Accuracy: 0.552200\n",
      "Epoch 35, CIFAR-10 Batch 1:  Loss:     0.5399, Validation_Accuracy: 0.538600\n",
      "Epoch 35, CIFAR-10 Batch 2:  Loss:     0.5383, Validation_Accuracy: 0.540000\n",
      "Epoch 35, CIFAR-10 Batch 3:  Loss:     0.4957, Validation_Accuracy: 0.552800\n",
      "Epoch 35, CIFAR-10 Batch 4:  Loss:     0.4947, Validation_Accuracy: 0.552400\n",
      "Epoch 35, CIFAR-10 Batch 5:  Loss:     0.4291, Validation_Accuracy: 0.563000\n",
      "Epoch 36, CIFAR-10 Batch 1:  Loss:     0.5167, Validation_Accuracy: 0.544400\n",
      "Epoch 36, CIFAR-10 Batch 2:  Loss:     0.5307, Validation_Accuracy: 0.530200\n",
      "Epoch 36, CIFAR-10 Batch 3:  Loss:     0.4736, Validation_Accuracy: 0.539800\n",
      "Epoch 36, CIFAR-10 Batch 4:  Loss:     0.5064, Validation_Accuracy: 0.541400\n",
      "Epoch 36, CIFAR-10 Batch 5:  Loss:     0.4541, Validation_Accuracy: 0.564200\n",
      "Epoch 37, CIFAR-10 Batch 1:  Loss:     0.4192, Validation_Accuracy: 0.558200\n",
      "Epoch 37, CIFAR-10 Batch 2:  Loss:     0.4108, Validation_Accuracy: 0.556400\n",
      "Epoch 37, CIFAR-10 Batch 3:  Loss:     0.4308, Validation_Accuracy: 0.548800\n",
      "Epoch 37, CIFAR-10 Batch 4:  Loss:     0.4652, Validation_Accuracy: 0.545800\n",
      "Epoch 37, CIFAR-10 Batch 5:  Loss:     0.4491, Validation_Accuracy: 0.556200\n",
      "Epoch 38, CIFAR-10 Batch 1:  Loss:     0.3923, Validation_Accuracy: 0.565800\n",
      "Epoch 38, CIFAR-10 Batch 2:  Loss:     0.3941, Validation_Accuracy: 0.559000\n",
      "Epoch 38, CIFAR-10 Batch 3:  Loss:     0.3988, Validation_Accuracy: 0.551200\n",
      "Epoch 38, CIFAR-10 Batch 4:  Loss:     0.4144, Validation_Accuracy: 0.556200\n",
      "Epoch 38, CIFAR-10 Batch 5:  Loss:     0.4013, Validation_Accuracy: 0.558400\n",
      "Epoch 39, CIFAR-10 Batch 1:  Loss:     0.3869, Validation_Accuracy: 0.562600\n",
      "Epoch 39, CIFAR-10 Batch 2:  Loss:     0.3689, Validation_Accuracy: 0.555600\n",
      "Epoch 39, CIFAR-10 Batch 3:  Loss:     0.3450, Validation_Accuracy: 0.555200\n",
      "Epoch 39, CIFAR-10 Batch 4:  Loss:     0.3819, Validation_Accuracy: 0.554800\n",
      "Epoch 39, CIFAR-10 Batch 5:  Loss:     0.3450, Validation_Accuracy: 0.560200\n",
      "Epoch 40, CIFAR-10 Batch 1:  Loss:     0.3694, Validation_Accuracy: 0.557000\n",
      "Epoch 40, CIFAR-10 Batch 2:  Loss:     0.3466, Validation_Accuracy: 0.553000\n",
      "Epoch 40, CIFAR-10 Batch 3:  Loss:     0.3010, Validation_Accuracy: 0.559200\n",
      "Epoch 40, CIFAR-10 Batch 4:  Loss:     0.3659, Validation_Accuracy: 0.555200\n",
      "Epoch 40, CIFAR-10 Batch 5:  Loss:     0.3764, Validation_Accuracy: 0.562800\n",
      "Epoch 41, CIFAR-10 Batch 1:  Loss:     0.3901, Validation_Accuracy: 0.555200\n",
      "Epoch 41, CIFAR-10 Batch 2:  Loss:     0.3635, Validation_Accuracy: 0.558400\n",
      "Epoch 41, CIFAR-10 Batch 3:  Loss:     0.3145, Validation_Accuracy: 0.569400\n",
      "Epoch 41, CIFAR-10 Batch 4:  Loss:     0.3653, Validation_Accuracy: 0.555200\n",
      "Epoch 41, CIFAR-10 Batch 5:  Loss:     0.4178, Validation_Accuracy: 0.550200\n",
      "Epoch 42, CIFAR-10 Batch 1:  Loss:     0.3765, Validation_Accuracy: 0.554000\n",
      "Epoch 42, CIFAR-10 Batch 2:  Loss:     0.3502, Validation_Accuracy: 0.557400\n",
      "Epoch 42, CIFAR-10 Batch 3:  Loss:     0.3126, Validation_Accuracy: 0.559000\n",
      "Epoch 42, CIFAR-10 Batch 4:  Loss:     0.3275, Validation_Accuracy: 0.554400\n",
      "Epoch 42, CIFAR-10 Batch 5:  Loss:     0.3208, Validation_Accuracy: 0.551000\n",
      "Epoch 43, CIFAR-10 Batch 1:  Loss:     0.3644, Validation_Accuracy: 0.554000\n",
      "Epoch 43, CIFAR-10 Batch 2:  Loss:     0.3628, Validation_Accuracy: 0.545400\n",
      "Epoch 43, CIFAR-10 Batch 3:  Loss:     0.3354, Validation_Accuracy: 0.548600\n",
      "Epoch 43, CIFAR-10 Batch 4:  Loss:     0.3101, Validation_Accuracy: 0.545800\n",
      "Epoch 43, CIFAR-10 Batch 5:  Loss:     0.2908, Validation_Accuracy: 0.555800\n",
      "Epoch 44, CIFAR-10 Batch 1:  Loss:     0.3341, Validation_Accuracy: 0.549600\n",
      "Epoch 44, CIFAR-10 Batch 2:  Loss:     0.3507, Validation_Accuracy: 0.543600\n",
      "Epoch 44, CIFAR-10 Batch 3:  Loss:     0.2954, Validation_Accuracy: 0.553600\n",
      "Epoch 44, CIFAR-10 Batch 4:  Loss:     0.3876, Validation_Accuracy: 0.532000\n",
      "Epoch 44, CIFAR-10 Batch 5:  Loss:     0.3706, Validation_Accuracy: 0.536200\n",
      "Epoch 45, CIFAR-10 Batch 1:  Loss:     0.3596, Validation_Accuracy: 0.539600\n",
      "Epoch 45, CIFAR-10 Batch 2:  Loss:     0.4200, Validation_Accuracy: 0.530000\n",
      "Epoch 45, CIFAR-10 Batch 3:  Loss:     0.3416, Validation_Accuracy: 0.539600\n",
      "Epoch 45, CIFAR-10 Batch 4:  Loss:     0.3768, Validation_Accuracy: 0.542200\n",
      "Epoch 45, CIFAR-10 Batch 5:  Loss:     0.3936, Validation_Accuracy: 0.529800\n",
      "Epoch 46, CIFAR-10 Batch 1:  Loss:     0.3602, Validation_Accuracy: 0.548200\n",
      "Epoch 46, CIFAR-10 Batch 2:  Loss:     0.4004, Validation_Accuracy: 0.530400\n",
      "Epoch 46, CIFAR-10 Batch 3:  Loss:     0.3416, Validation_Accuracy: 0.547800\n",
      "Epoch 46, CIFAR-10 Batch 4:  Loss:     0.2965, Validation_Accuracy: 0.553000\n",
      "Epoch 46, CIFAR-10 Batch 5:  Loss:     0.3566, Validation_Accuracy: 0.553200\n",
      "Epoch 47, CIFAR-10 Batch 1:  Loss:     0.3694, Validation_Accuracy: 0.547000\n",
      "Epoch 47, CIFAR-10 Batch 2:  Loss:     0.3289, Validation_Accuracy: 0.557000\n",
      "Epoch 47, CIFAR-10 Batch 3:  Loss:     0.3154, Validation_Accuracy: 0.550200\n",
      "Epoch 47, CIFAR-10 Batch 4:  Loss:     0.3644, Validation_Accuracy: 0.543400\n",
      "Epoch 47, CIFAR-10 Batch 5:  Loss:     0.3663, Validation_Accuracy: 0.552200\n",
      "Epoch 48, CIFAR-10 Batch 1:  Loss:     0.3427, Validation_Accuracy: 0.548600\n",
      "Epoch 48, CIFAR-10 Batch 2:  Loss:     0.3386, Validation_Accuracy: 0.549000\n",
      "Epoch 48, CIFAR-10 Batch 3:  Loss:     0.3403, Validation_Accuracy: 0.551400\n",
      "Epoch 48, CIFAR-10 Batch 4:  Loss:     0.3316, Validation_Accuracy: 0.546400\n",
      "Epoch 48, CIFAR-10 Batch 5:  Loss:     0.3000, Validation_Accuracy: 0.553000\n",
      "Epoch 49, CIFAR-10 Batch 1:  Loss:     0.3042, Validation_Accuracy: 0.552200\n",
      "Epoch 49, CIFAR-10 Batch 2:  Loss:     0.3251, Validation_Accuracy: 0.540600\n",
      "Epoch 49, CIFAR-10 Batch 3:  Loss:     0.3285, Validation_Accuracy: 0.557000\n",
      "Epoch 49, CIFAR-10 Batch 4:  Loss:     0.2937, Validation_Accuracy: 0.551200\n",
      "Epoch 49, CIFAR-10 Batch 5:  Loss:     0.2703, Validation_Accuracy: 0.551800\n",
      "Epoch 50, CIFAR-10 Batch 1:  Loss:     0.2808, Validation_Accuracy: 0.548800\n",
      "Epoch 50, CIFAR-10 Batch 2:  Loss:     0.3093, Validation_Accuracy: 0.541600\n",
      "Epoch 50, CIFAR-10 Batch 3:  Loss:     0.3024, Validation_Accuracy: 0.550600\n",
      "Epoch 50, CIFAR-10 Batch 4:  Loss:     0.2461, Validation_Accuracy: 0.554400\n",
      "Epoch 50, CIFAR-10 Batch 5:  Loss:     0.2484, Validation_Accuracy: 0.555200\n",
      "Epoch 51, CIFAR-10 Batch 1:  Loss:     0.2848, Validation_Accuracy: 0.550800\n",
      "Epoch 51, CIFAR-10 Batch 2:  Loss:     0.2923, Validation_Accuracy: 0.547800\n",
      "Epoch 51, CIFAR-10 Batch 3:  Loss:     0.2807, Validation_Accuracy: 0.554400\n",
      "Epoch 51, CIFAR-10 Batch 4:  Loss:     0.2218, Validation_Accuracy: 0.553000\n",
      "Epoch 51, CIFAR-10 Batch 5:  Loss:     0.2270, Validation_Accuracy: 0.560200\n",
      "Epoch 52, CIFAR-10 Batch 1:  Loss:     0.2930, Validation_Accuracy: 0.554400\n",
      "Epoch 52, CIFAR-10 Batch 2:  Loss:     0.3212, Validation_Accuracy: 0.540600\n",
      "Epoch 52, CIFAR-10 Batch 3:  Loss:     0.2752, Validation_Accuracy: 0.550200\n",
      "Epoch 52, CIFAR-10 Batch 4:  Loss:     0.2190, Validation_Accuracy: 0.565600\n",
      "Epoch 52, CIFAR-10 Batch 5:  Loss:     0.2910, Validation_Accuracy: 0.542600\n",
      "Epoch 53, CIFAR-10 Batch 1:  Loss:     0.2648, Validation_Accuracy: 0.554400\n",
      "Epoch 53, CIFAR-10 Batch 2:  Loss:     0.3307, Validation_Accuracy: 0.533600\n",
      "Epoch 53, CIFAR-10 Batch 3:  Loss:     0.2471, Validation_Accuracy: 0.547200\n",
      "Epoch 53, CIFAR-10 Batch 4:  Loss:     0.2352, Validation_Accuracy: 0.556400\n",
      "Epoch 53, CIFAR-10 Batch 5:  Loss:     0.2630, Validation_Accuracy: 0.534600\n",
      "Epoch 54, CIFAR-10 Batch 1:  Loss:     0.2457, Validation_Accuracy: 0.551000\n",
      "Epoch 54, CIFAR-10 Batch 2:  Loss:     0.2716, Validation_Accuracy: 0.536000\n",
      "Epoch 54, CIFAR-10 Batch 3:  Loss:     0.1976, Validation_Accuracy: 0.555800\n",
      "Epoch 54, CIFAR-10 Batch 4:  Loss:     0.2084, Validation_Accuracy: 0.556400\n",
      "Epoch 54, CIFAR-10 Batch 5:  Loss:     0.2376, Validation_Accuracy: 0.536000\n",
      "Epoch 55, CIFAR-10 Batch 1:  Loss:     0.2044, Validation_Accuracy: 0.557400\n",
      "Epoch 55, CIFAR-10 Batch 2:  Loss:     0.2160, Validation_Accuracy: 0.534200\n",
      "Epoch 55, CIFAR-10 Batch 3:  Loss:     0.2006, Validation_Accuracy: 0.557400\n",
      "Epoch 55, CIFAR-10 Batch 4:  Loss:     0.1731, Validation_Accuracy: 0.558400\n",
      "Epoch 55, CIFAR-10 Batch 5:  Loss:     0.1727, Validation_Accuracy: 0.548800\n",
      "Epoch 56, CIFAR-10 Batch 1:  Loss:     0.1777, Validation_Accuracy: 0.560600\n",
      "Epoch 56, CIFAR-10 Batch 2:  Loss:     0.1899, Validation_Accuracy: 0.547800\n",
      "Epoch 56, CIFAR-10 Batch 3:  Loss:     0.1665, Validation_Accuracy: 0.564200\n",
      "Epoch 56, CIFAR-10 Batch 4:  Loss:     0.1771, Validation_Accuracy: 0.554000\n",
      "Epoch 56, CIFAR-10 Batch 5:  Loss:     0.1491, Validation_Accuracy: 0.561200\n",
      "Epoch 57, CIFAR-10 Batch 1:  Loss:     0.2164, Validation_Accuracy: 0.529800\n",
      "Epoch 57, CIFAR-10 Batch 2:  Loss:     0.1902, Validation_Accuracy: 0.539800\n",
      "Epoch 57, CIFAR-10 Batch 3:  Loss:     0.1711, Validation_Accuracy: 0.563000\n",
      "Epoch 57, CIFAR-10 Batch 4:  Loss:     0.1921, Validation_Accuracy: 0.543200\n",
      "Epoch 57, CIFAR-10 Batch 5:  Loss:     0.1645, Validation_Accuracy: 0.549400\n",
      "Epoch 58, CIFAR-10 Batch 1:  Loss:     0.2304, Validation_Accuracy: 0.529200\n",
      "Epoch 58, CIFAR-10 Batch 2:  Loss:     0.2108, Validation_Accuracy: 0.538200\n",
      "Epoch 58, CIFAR-10 Batch 3:  Loss:     0.2270, Validation_Accuracy: 0.550400\n",
      "Epoch 58, CIFAR-10 Batch 4:  Loss:     0.2014, Validation_Accuracy: 0.533400\n",
      "Epoch 58, CIFAR-10 Batch 5:  Loss:     0.1805, Validation_Accuracy: 0.560600\n",
      "Epoch 59, CIFAR-10 Batch 1:  Loss:     0.2077, Validation_Accuracy: 0.534400\n",
      "Epoch 59, CIFAR-10 Batch 2:  Loss:     0.2199, Validation_Accuracy: 0.532200\n",
      "Epoch 59, CIFAR-10 Batch 3:  Loss:     0.2118, Validation_Accuracy: 0.552400\n",
      "Epoch 59, CIFAR-10 Batch 4:  Loss:     0.1846, Validation_Accuracy: 0.555800\n",
      "Epoch 59, CIFAR-10 Batch 5:  Loss:     0.1903, Validation_Accuracy: 0.556400\n",
      "Epoch 60, CIFAR-10 Batch 1:  Loss:     0.1937, Validation_Accuracy: 0.543000\n",
      "Epoch 60, CIFAR-10 Batch 2:  Loss:     0.2708, Validation_Accuracy: 0.520000\n",
      "Epoch 60, CIFAR-10 Batch 3:  Loss:     0.2482, Validation_Accuracy: 0.546800\n",
      "Epoch 60, CIFAR-10 Batch 4:  Loss:     0.2058, Validation_Accuracy: 0.540800\n",
      "Epoch 60, CIFAR-10 Batch 5:  Loss:     0.1572, Validation_Accuracy: 0.557000\n"
     ]
    }
   ],
   "source": [
    "\"\"\"\n",
    "DON'T MODIFY ANYTHING IN THIS CELL\n",
    "\"\"\"\n",
    "save_model_path = './image_classification'\n",
    "\n",
    "print('Training...')\n",
    "with tf.Session() as sess:\n",
    "    # Initializing the variables\n",
    "    sess.run(tf.global_variables_initializer())\n",
    "    \n",
    "    # Training cycle\n",
    "    for epoch in range(epochs):\n",
    "        # Loop over all batches\n",
    "        n_batches = 5\n",
    "        for batch_i in range(1, n_batches + 1):\n",
    "            for batch_features, batch_labels in helper.load_preprocess_training_batch(batch_i, batch_size):\n",
    "                train_neural_network(sess, optimizer, keep_probability, batch_features, batch_labels)\n",
    "            print('Epoch {:>2}, CIFAR-10 Batch {}:  '.format(epoch + 1, batch_i), end='')\n",
    "            print_stats(sess, batch_features, batch_labels, cost, accuracy)\n",
    "            \n",
    "    # Save Model\n",
    "    saver = tf.train.Saver()\n",
    "    save_path = saver.save(sess, save_model_path)"
   ]
  },
  {
   "cell_type": "markdown",
   "metadata": {
    "deletable": true,
    "editable": true
   },
   "source": [
    "# Checkpoint\n",
    "The model has been saved to disk.\n",
    "## Test Model\n",
    "Test your model against the test dataset.  This will be your final accuracy. You should have an accuracy greater than 50%. If you don't, keep tweaking the model architecture and parameters."
   ]
  },
  {
   "cell_type": "code",
   "execution_count": 74,
   "metadata": {
    "collapsed": false,
    "deletable": true,
    "editable": true
   },
   "outputs": [
    {
     "name": "stdout",
     "output_type": "stream",
     "text": [
      "Testing Accuracy: 0.5570252716541291\n",
      "\n"
     ]
    },
    {
     "data": {
      "image/png": "[encoded data removed]",
      "text/plain": [
       "<matplotlib.figure.Figure at 0x7fdc56929860>"
      ]
     },
     "metadata": {
      "image/png": {
       "height": 319,
       "width": 355
      }
     },
     "output_type": "display_data"
    }
   ],
   "source": [
    "\"\"\"\n",
    "DON'T MODIFY ANYTHING IN THIS CELL\n",
    "\"\"\"\n",
    "%matplotlib inline\n",
    "%config InlineBackend.figure_format = 'retina'\n",
    "\n",
    "import tensorflow as tf\n",
    "import pickle\n",
    "import helper\n",
    "import random\n",
    "\n",
    "# Set batch size if not already set\n",
    "try:\n",
    "    if batch_size:\n",
    "        pass\n",
    "except NameError:\n",
    "    batch_size = 64\n",
    "\n",
    "save_model_path = './image_classification'\n",
    "n_samples = 4\n",
    "top_n_predictions = 3\n",
    "\n",
    "def test_model():\n",
    "    \"\"\"\n",
    "    Test the saved model against the test dataset\n",
    "    \"\"\"\n",
    "\n",
    "    test_features, test_labels = pickle.load(open('preprocess_training.p', mode='rb'))\n",
    "    loaded_graph = tf.Graph()\n",
    "\n",
    "    with tf.Session(graph=loaded_graph) as sess:\n",
    "        # Load model\n",
    "        loader = tf.train.import_meta_graph(save_model_path + '.meta')\n",
    "        loader.restore(sess, save_model_path)\n",
    "\n",
    "        # Get Tensors from loaded model\n",
    "        loaded_x = loaded_graph.get_tensor_by_name('x:0')\n",
    "        loaded_y = loaded_graph.get_tensor_by_name('y:0')\n",
    "        loaded_keep_prob = loaded_graph.get_tensor_by_name('keep_prob:0')\n",
    "        loaded_logits = loaded_graph.get_tensor_by_name('logits:0')\n",
    "        loaded_acc = loaded_graph.get_tensor_by_name('accuracy:0')\n",
    "        \n",
    "        # Get accuracy in batches for memory limitations\n",
    "        test_batch_acc_total = 0\n",
    "        test_batch_count = 0\n",
    "        \n",
    "        for train_feature_batch, train_label_batch in helper.batch_features_labels(test_features, test_labels, batch_size):\n",
    "            test_batch_acc_total += sess.run(\n",
    "                loaded_acc,\n",
    "                feed_dict={loaded_x: train_feature_batch, loaded_y: train_label_batch, loaded_keep_prob: 1.0})\n",
    "            test_batch_count += 1\n",
    "\n",
    "        print('Testing Accuracy: {}\\n'.format(test_batch_acc_total/test_batch_count))\n",
    "\n",
    "        # Print Random Samples\n",
    "        random_test_features, random_test_labels = tuple(zip(*random.sample(list(zip(test_features, test_labels)), n_samples)))\n",
    "        random_test_predictions = sess.run(\n",
    "            tf.nn.top_k(tf.nn.softmax(loaded_logits), top_n_predictions),\n",
    "            feed_dict={loaded_x: random_test_features, loaded_y: random_test_labels, loaded_keep_prob: 1.0})\n",
    "        helper.display_image_predictions(random_test_features, random_test_labels, random_test_predictions)\n",
    "\n",
    "\n",
    "test_model()"
   ]
  },
  {
   "cell_type": "markdown",
   "metadata": {
    "deletable": true,
    "editable": true
   },
   "source": [
    "## Why 50-80% Accuracy?\n",
    "You might be wondering why you can't get an accuracy any higher. First things first, 50% isn't bad for a simple CNN.  Pure guessing would get you 10% accuracy. However, you might notice people are getting scores [well above 80%](http://rodrigob.github.io/are_we_there_yet/build/classification_datasets_results.html#43494641522d3130).  That's because we haven't taught you all there is to know about neural networks. We still need to cover a few more techniques.\n",
    "## Submitting This Project\n",
    "When submitting this project, make sure to run all the cells before saving the notebook.  Save the notebook file as \"dlnd_image_classification.ipynb\" and save it as a HTML file under \"File\" -> \"Download as\".  Include the \"helper.py\" and \"problem_unittests.py\" files in your submission."
   ]
  }
 ],
 "metadata": {
  "kernelspec": {
   "display_name": "Python 3",
   "language": "python",
   "name": "python3"
  },
  "language_info": {
   "codemirror_mode": {
    "name": "ipython",
    "version": 3
   },
   "file_extension": ".py",
   "mimetype": "text/x-python",
   "name": "python",
   "nbconvert_exporter": "python",
   "pygments_lexer": "ipython3",
   "version": "3.5.2"
  },
  "widgets": {
   "state": {},
   "version": "1.1.2"
  }
 },
 "nbformat": 4,
 "nbformat_minor": 0
}
